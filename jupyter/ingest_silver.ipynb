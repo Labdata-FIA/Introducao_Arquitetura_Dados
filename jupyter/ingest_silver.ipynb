{
 "cells": [
  {
   "cell_type": "markdown",
   "id": "31f1b3cd-f977-4c27-91a0-96ced4e67f98",
   "metadata": {},
   "source": [
    "## Imports necessários"
   ]
  },
  {
   "cell_type": "code",
   "execution_count": 246,
   "id": "94373002-8804-4320-ad4d-9d3b18e8759a",
   "metadata": {},
   "outputs": [],
   "source": [
    "from deltalake.writer import write_deltalake\n",
    "from deltalake import DeltaTable\n",
    "import duckdb\n",
    "from datetime import datetime, timedelta, timezone\n",
    "from zoneinfo import ZoneInfo\n"
   ]
  },
  {
   "cell_type": "markdown",
   "id": "273c8e9a-294b-4b42-9c9a-627b218fb4eb",
   "metadata": {},
   "source": [
    "## Extensão"
   ]
  },
  {
   "cell_type": "code",
   "execution_count": 247,
   "id": "a05a6fab-8ede-4885-affe-ab18173c7c80",
   "metadata": {
    "scrolled": true
   },
   "outputs": [
    {
     "data": {
      "text/plain": [
       "┌──────────────────┬─────────┬───────────┬─────────────────────────────────────────────────────────────────────────────────┬────────────────────────────────────────────────────────────────────────────────────┬───────────────────┬───────────────────┬───────────────────┬────────────────┐\n",
       "│  extension_name  │ loaded  │ installed │                                  install_path                                   │                                    description                                     │      aliases      │ extension_version │   install_mode    │ installed_from │\n",
       "│     varchar      │ boolean │  boolean  │                                     varchar                                     │                                      varchar                                       │     varchar[]     │      varchar      │      varchar      │    varchar     │\n",
       "├──────────────────┼─────────┼───────────┼─────────────────────────────────────────────────────────────────────────────────┼────────────────────────────────────────────────────────────────────────────────────┼───────────────────┼───────────────────┼───────────────────┼────────────────┤\n",
       "│ arrow            │ false   │ false     │                                                                                 │ A zero-copy data integration between Apache Arrow and DuckDB                       │ []                │                   │ NULL              │                │\n",
       "│ autocomplete     │ false   │ false     │                                                                                 │ Adds support for autocomplete in the shell                                         │ []                │                   │ NULL              │                │\n",
       "│ aws              │ false   │ false     │                                                                                 │ Provides features that depend on the AWS SDK                                       │ []                │                   │ NULL              │                │\n",
       "│ azure            │ false   │ false     │                                                                                 │ Adds a filesystem abstraction for Azure blob storage to DuckDB                     │ []                │                   │ NULL              │                │\n",
       "│ core_functions   │ true    │ true      │ (BUILT-IN)                                                                      │ Core function library                                                              │ []                │                   │ STATICALLY_LINKED │                │\n",
       "│ delta            │ false   │ false     │                                                                                 │ Adds support for Delta Lake                                                        │ []                │                   │ NULL              │                │\n",
       "│ excel            │ false   │ false     │                                                                                 │ Adds support for Excel-like format strings                                         │ []                │                   │ NULL              │                │\n",
       "│ fts              │ false   │ false     │                                                                                 │ Adds support for Full-Text Search Indexes                                          │ []                │                   │ NULL              │                │\n",
       "│ httpfs           │ false   │ true      │ /home/jovyan/.duckdb/extensions/v1.2.1/linux_amd64_gcc4/httpfs.duckdb_extension │ Adds support for reading and writing files over a HTTP(S) connection               │ [http, https, s3] │ 85ac466           │ REPOSITORY        │ core           │\n",
       "│ iceberg          │ false   │ false     │                                                                                 │ Adds support for Apache Iceberg                                                    │ []                │                   │ NULL              │                │\n",
       "│    ·             │   ·     │   ·       │                                        ·                                        │                ·                                                                   │ ·                 │         ·         │  ·                │       ·        │\n",
       "│    ·             │   ·     │   ·       │                                        ·                                        │                ·                                                                   │ ·                 │         ·         │  ·                │       ·        │\n",
       "│    ·             │   ·     │   ·       │                                        ·                                        │                ·                                                                   │ ·                 │         ·         │  ·                │       ·        │\n",
       "│ motherduck       │ false   │ false     │                                                                                 │ Enables motherduck integration with the system                                     │ [md]              │                   │ NULL              │                │\n",
       "│ mysql_scanner    │ false   │ false     │                                                                                 │ Adds support for connecting to a MySQL database                                    │ [mysql]           │                   │ NULL              │                │\n",
       "│ parquet          │ true    │ true      │ (BUILT-IN)                                                                      │ Adds support for reading and writing parquet files                                 │ []                │                   │ STATICALLY_LINKED │                │\n",
       "│ postgres_scanner │ false   │ false     │                                                                                 │ Adds support for connecting to a Postgres database                                 │ [postgres]        │                   │ NULL              │                │\n",
       "│ spatial          │ false   │ false     │                                                                                 │ Geospatial extension that adds support for working with spatial data and functions │ []                │                   │ NULL              │                │\n",
       "│ sqlite_scanner   │ false   │ false     │                                                                                 │ Adds support for reading and writing SQLite database files                         │ [sqlite, sqlite3] │                   │ NULL              │                │\n",
       "│ tpcds            │ false   │ false     │                                                                                 │ Adds TPC-DS data generation and query support                                      │ []                │                   │ NULL              │                │\n",
       "│ tpch             │ true    │ true      │ (BUILT-IN)                                                                      │ Adds TPC-H data generation and query support                                       │ []                │                   │ STATICALLY_LINKED │                │\n",
       "│ ui               │ false   │ false     │                                                                                 │ Adds local UI for DuckDB                                                           │ []                │                   │ NULL              │                │\n",
       "│ vss              │ false   │ false     │                                                                                 │ Adds indexing support to accelerate Vector Similarity Search                       │ []                │                   │ NULL              │                │\n",
       "├──────────────────┴─────────┴───────────┴─────────────────────────────────────────────────────────────────────────────────┴────────────────────────────────────────────────────────────────────────────────────┴───────────────────┴───────────────────┴───────────────────┴────────────────┤\n",
       "│ 24 rows (20 shown)                                                                                                                                                                                                                                                               9 columns │\n",
       "└────────────────────────────────────────────────────────────────────────────────────────────────────────────────────────────────────────────────────────────────────────────────────────────────────────────────────────────────────────────────────────────────────────────────────────────┘"
      ]
     },
     "execution_count": 247,
     "metadata": {},
     "output_type": "execute_result"
    }
   ],
   "source": [
    "cn=duckdb.connect()\n",
    "cn.sql(\"\"\"from duckdb_extensions() \"\"\")"
   ]
  },
  {
   "cell_type": "code",
   "execution_count": 248,
   "id": "b02d5a84",
   "metadata": {},
   "outputs": [],
   "source": [
    "def duckdb_connection() -> duckdb.DuckDBPyConnection:    \n",
    "    con = duckdb.connect()\n",
    "    con.install_extension(\"httpfs\")\n",
    "    con.load_extension(\"httpfs\")\n",
    "    return con"
   ]
  },
  {
   "cell_type": "code",
   "execution_count": 249,
   "id": "7fa33edc-8232-4244-a58b-d81f0f6bdcd1",
   "metadata": {},
   "outputs": [],
   "source": [
    "def create_secret(cn):\n",
    "    \"\"\"Cria um segredo no DuckDB para acessar o MinIO.\"\"\"\n",
    "    try:\n",
    "        cn.sql(\"\"\"CREATE SECRET secret_minio  (\n",
    "                TYPE S3,\n",
    "                KEY_ID 'cursolab',\n",
    "                SECRET 'cursolab',\n",
    "                REGION 'us-east-1',\n",
    "                ENDPOINT 'minio:9000',\n",
    "                URL_STYLE 'path',\n",
    "                USE_SSL false\n",
    "                );\"\"\"\n",
    "            )\n",
    "        print(\"Secret criado com sucesso!\")\n",
    "    except Exception as e:\n",
    "        print(f\"Erro ao criar o segredo: {e}\")\n",
    "\n"
   ]
  },
  {
   "cell_type": "code",
   "execution_count": 250,
   "id": "b1f715ed-c5d0-45da-885c-1a9e0ffe1eb6",
   "metadata": {},
   "outputs": [],
   "source": [
    "def get_path_bronze(source_base_path: str, process_date: datetime) -> str:   \n",
    "\n",
    "    source_bucket = \"bronze\"   \n",
    "    source_base_path = \"topics/postgres.inventory.products\"\n",
    "\n",
    "    # Formata o caminho da partição\n",
    "    partition_path = process_date.strftime(\"year=%Y/month=%m/day=%d/hour=%H\")\n",
    "\n",
    "    # Monta a chave S3\n",
    "    path =  f\"s3://{source_bucket}/{source_base_path}/{partition_path}/*\"\n",
    "\n",
    "    print(f\"get_path_bronze: {path}\")\n",
    "\n",
    "    return path"
   ]
  },
  {
   "cell_type": "code",
   "execution_count": 251,
   "id": "75a5e867-382f-411d-9f98-2ddfbd73f25f",
   "metadata": {},
   "outputs": [],
   "source": [
    "def set_path_silver(source_base_path: str, process_date: datetime) -> str: \n",
    "\n",
    "    sink_bucket = \"silver\"   \n",
    "    # Formata o caminho da partição\n",
    "    partition_path = process_date.strftime(\"year=%Y/month=%m/day=%d/hour=%H\")\n",
    "\n",
    "    # Monta a chave S3\n",
    "    path=  f\"s3://{sink_bucket}/{source_base_path}/{partition_path}\"\n",
    "\n",
    "    print(f\"set_path_silver: {path}\")\n",
    "\n",
    "    return path"
   ]
  },
  {
   "cell_type": "code",
   "execution_count": 252,
   "id": "e41539b8-ab8c-4fbb-adca-d506732cff7b",
   "metadata": {},
   "outputs": [],
   "source": [
    "def load_bronze(con, source_path) -> duckdb.DuckDBPyRelation:\n",
    "       \n",
    "    con.execute(f\"CREATE OR REPLACE TABLE products_bronze \\\n",
    "                      AS FROM read_json_auto('{source_path}', ignore_errors=true)\")\n",
    "\n",
    "    \n",
    "    return con.table(\"products_bronze\")"
   ]
  },
  {
   "cell_type": "code",
   "execution_count": 253,
   "id": "18391885-d3a1-474b-9f57-efaa52b38afa",
   "metadata": {},
   "outputs": [],
   "source": [
    "def clear_bronze(con, bronze_dataset) -> duckdb.DuckDBPyRelation:\n",
    "    query = f\"\"\"        \n",
    "        SELECT \n",
    "            data.payload.after.id::BIGINT AS id,\n",
    "            data.payload.after.name::VARCHAR AS name,\n",
    "            data.payload.after.description::VARCHAR AS description,\n",
    "            data.payload.after.weight::DOUBLE AS weight,\n",
    "            time,\n",
    "            hour,\n",
    "            month,\n",
    "            year\n",
    "        FROM '{bronze_dataset}'        \n",
    "    \"\"\"\n",
    "    con.execute(f\"CREATE OR REPLACE TABLE bronze_clean AS FROM ({query})\")   \n",
    "    return con.table(\"bronze_clean\")"
   ]
  },
  {
   "cell_type": "code",
   "execution_count": 254,
   "id": "b4922d67-cb9f-45f9-a7cc-db315b6dc08e",
   "metadata": {},
   "outputs": [],
   "source": [
    "def write_delta_silver(df, path_silver: str):    \n",
    "\n",
    "    storage_options = {\n",
    "            'AWS_ACCESS_KEY_ID': 'cursolab',\n",
    "            'AWS_SECRET_ACCESS_KEY': 'cursolab',\n",
    "            'AWS_ENDPOINT_URL': 'http://minio:9000',\n",
    "            'AWS_ALLOW_HTTP': 'true',\n",
    "            'aws_conditional_put': 'etag'\n",
    "      }\n",
    "   \n",
    "    write_deltalake(\n",
    "        path_silver,\n",
    "        df,\n",
    "        mode=\"append\",             \n",
    "        storage_options= storage_options\n",
    "    )\n",
    "\n",
    "    print(\"Write deltalake com sucesso\")"
   ]
  },
  {
   "cell_type": "code",
   "execution_count": null,
   "id": "016547ac-1df7-4b3f-837a-6d7f5f775d9f",
   "metadata": {},
   "outputs": [],
   "source": []
  },
  {
   "cell_type": "code",
   "execution_count": 255,
   "id": "f5e052aa-2cee-4d5d-815f-cb3f5f84d781",
   "metadata": {},
   "outputs": [],
   "source": [
    "def init_duckdb() -> duckdb.DuckDBPyConnection:  \n",
    "    con = duckdb_connection()\n",
    "    create_secret(con)\n",
    "    return con"
   ]
  },
  {
   "cell_type": "code",
   "execution_count": 256,
   "id": "a138c151-5091-4363-ada6-8095fd72f9e5",
   "metadata": {},
   "outputs": [],
   "source": [
    "def ingest_silver(con: duckdb.DuckDBPyConnection, process_date: datetime):   \n",
    "    source_base_path = \"topics/postgres.inventory.products\"\n",
    "\n",
    "    path_bronze = get_path_bronze(source_base_path, process_date)\n",
    "    path_silver = set_path_silver(source_base_path, process_date)\n",
    "    \n",
    "    bronze = load_bronze(con, path_bronze)\n",
    "    bronze_clear= clear_bronze(con, bronze.alias)\n",
    "    write_delta_silver(bronze_clear.to_df(),path_silver)\n",
    "    "
   ]
  },
  {
   "cell_type": "code",
   "execution_count": 257,
   "id": "d68e5ca7-d0c8-4e4f-98d7-e85a8393063d",
   "metadata": {},
   "outputs": [],
   "source": [
    "def main():\n",
    "\n",
    "    con =init_duckdb()\n",
    "    \n",
    "    \"\"\"Gera o caminho do arquivo no formato 'year=YYYY/month=MM/day=DD/hour=HH' para MinIO.\"\"\"\n",
    "    # Define o fuso horário de São Paulo\n",
    "    saopaulo_tz = ZoneInfo(\"America/Sao_Paulo\")\n",
    "\n",
    "    now = datetime.now(saopaulo_tz)\n",
    "    # Calcula a data de processamento (1 hora antes)\n",
    "    process_date = now.replace(minute=0, second=0, microsecond=0) - timedelta(hours=2)\n",
    "    \n",
    "    ingest_silver(con, process_date)\n",
    "\n",
    "    con.close()\n"
   ]
  },
  {
   "cell_type": "code",
   "execution_count": 258,
   "id": "73e3670e-a1a9-41e1-aebd-8bf44aea97da",
   "metadata": {},
   "outputs": [
    {
     "name": "stdout",
     "output_type": "stream",
     "text": [
      "Secret criado com sucesso!\n",
      "get_path_bronze: s3://bronze/topics/postgres.inventory.products/year=2025/month=03/day=11/hour=00/*\n",
      "set_path_silver: s3://silver/topics/postgres.inventory.products/year=2025/month=03/day=11/hour=00\n",
      "Write deltalake com sucesso\n"
     ]
    }
   ],
   "source": [
    "main()"
   ]
  },
  {
   "cell_type": "code",
   "execution_count": null,
   "id": "01786887-7eaa-48fd-bcca-4e980ca046d4",
   "metadata": {},
   "outputs": [],
   "source": []
  },
  {
   "cell_type": "code",
   "execution_count": null,
   "id": "57ef488e-4718-4c87-bf83-1b8ed0cc73a4",
   "metadata": {},
   "outputs": [],
   "source": []
  }
 ],
 "metadata": {
  "kernelspec": {
   "display_name": "Python 3 (ipykernel)",
   "language": "python",
   "name": "python3"
  },
  "language_info": {
   "codemirror_mode": {
    "name": "ipython",
    "version": 3
   },
   "file_extension": ".py",
   "mimetype": "text/x-python",
   "name": "python",
   "nbconvert_exporter": "python",
   "pygments_lexer": "ipython3",
   "version": "3.11.6"
  }
 },
 "nbformat": 4,
 "nbformat_minor": 5
}
